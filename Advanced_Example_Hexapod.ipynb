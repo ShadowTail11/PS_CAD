{
 "cells": [
  {
   "cell_type": "markdown",
   "metadata": {},
   "source": [
    "# Advanced Design of a Hexapod!"
   ]
  },
  {
   "cell_type": "markdown",
   "metadata": {},
   "source": [
    "The code below is an example project to design a hexapod assembly (group of parts). There's a lot going on down below, but you don't need to worry about the details! Simply run each cell and see what comes out. You can also click the `Run All` button above to run each cell back-to-back.\n",
    "\n",
    "Since this is an assembly, you can also explore the `Explode` button in the viewer (there should be a play button that appears in the bottom right corner of the viewer)!\n",
    "\n",
    "**Note:** You may be asked to install 3rd party software. If you get this request, please press `OK` to proceed."
   ]
  },
  {
   "cell_type": "code",
   "execution_count": null,
   "metadata": {},
   "outputs": [],
   "source": [
    "# Import necessary modules and functions\n",
    "from ocp_vscode import *\n",
    "import cadquery as cq\n",
    "from jupyter_cadquery import (\n",
    "    open_viewer, web_color,\n",
    "    set_defaults, get_defaults, \n",
    "    PartGroup, Part, Faces, Edges\n",
    ")\n",
    "from cadquery_massembly import Mate, MAssembly, relocate\n",
    "\n",
    "# Set the communication port for the viewer\n",
    "set_port(3939)\n",
    "\n",
    "# Open a viewer window with specified parameters\n",
    "viewer = open_viewer(\"Hexapod\", cad_width=800, height=600, theme=\"browser\")\n"
   ]
  },
  {
   "cell_type": "code",
   "execution_count": null,
   "metadata": {},
   "outputs": [],
   "source": [
    "# Set default visualization settings\n",
    "set_defaults(\n",
    "    axes=False,    # Hide the coordinate axes\n",
    "    axes0=True,    # Display the global coordinate axes\n",
    "    mate_scale=5,  # Scale factor for displaying mates\n",
    "    transparent=False  # Disable transparency in visualization\n",
    ")\n"
   ]
  },
  {
   "cell_type": "markdown",
   "metadata": {},
   "source": [
    "# Hexapod "
   ]
  },
  {
   "cell_type": "code",
   "execution_count": null,
   "metadata": {},
   "outputs": [],
   "source": [
    "import numpy as np\n",
    "\n",
    "# Define the horizontal angle\n",
    "horizontal_angle = 25\n",
    "\n",
    "# Function to generate intervals\n",
    "def intervals(count):\n",
    "    # Calculate intervals for equally dividing a circle\n",
    "    r = [min(180, (90 + i * (360 // count)) % 360) for i in range(count)]\n",
    "    return r\n",
    "\n",
    "# Function to generate time intervals\n",
    "def times(end, count):\n",
    "    return np.linspace(0, end, count + 1)\n",
    "\n",
    "# Function to generate vertical movement\n",
    "def vertical(count, end, offset, reverse):\n",
    "    # Calculate intervals for vertical movement\n",
    "    ints = intervals(count)\n",
    "    # Calculate heights for each interval\n",
    "    heights = [round(35 * np.sin(np.deg2rad(x)) - 15, 1) for x in ints]\n",
    "    # Append the first height to the end for closed loop\n",
    "    heights.append(heights[0])\n",
    "    # Adjust heights based on offset and reverse direction\n",
    "    return times(end, count), heights[offset:] + heights[1:offset + 1]\n",
    "\n",
    "# Function to generate horizontal movement\n",
    "def horizontal(end, reverse):\n",
    "    # Define factor for adjusting direction based on reverse flag\n",
    "    factor = 1 if reverse else -1\n",
    "    # Generate time intervals and angles for horizontal movement\n",
    "    return times(end, 4), [0, factor * horizontal_angle, 0, -factor * horizontal_angle, 0]\n",
    "\n",
    "# Print leg group 1 with transparent and filled settings\n",
    "print(\"Leg group 1 (transparent)\")\n",
    "print(\"horizontal movement    \", horizontal(4, True))\n",
    "print(\"vertical heights (left) \", vertical(8, 4, 0, True))\n",
    "print(\"vertical heights (right)\", vertical(8, 4, 0, False))\n",
    "\n",
    "print(\"\\nLeg group 1 (filled)\")\n",
    "print(\"horizontal movement\", horizontal(4, False))\n",
    "print(\"vertical heights (left) \", vertical(8, 4, 4, True))\n",
    "print(\"vertical heights (right)\", vertical(8, 4, 4, False))\n"
   ]
  },
  {
   "cell_type": "markdown",
   "metadata": {},
   "source": [
    "# Assembly"
   ]
  },
  {
   "cell_type": "markdown",
   "metadata": {},
   "source": [
    "## Parts"
   ]
  },
  {
   "cell_type": "code",
   "execution_count": null,
   "metadata": {},
   "outputs": [],
   "source": [
    "# Define dimensions and parameters\n",
    "thickness = 2   # Thickness of the object\n",
    "height = 40     # Height of the object\n",
    "width = 65      # Width of the object\n",
    "length = 100    # Length of the object\n",
    "diam = 4        # Diameter of a hole or circle\n",
    "tol = 0.05      # Tolerance value for precision or clearance\n"
   ]
  },
  {
   "cell_type": "code",
   "execution_count": null,
   "metadata": {},
   "outputs": [],
   "source": [
    "def create_base():\n",
    "    # Define positions of base holes and stand holes\n",
    "    x1, x2 = 0.63, 0.87\n",
    "    base_holes = {\n",
    "        \"right_front\": (-x1 * width, -x1 * length),\n",
    "        \"right_middle\": (-x2 * width, 0),\n",
    "        \"right_back\": (-x1 * width, x1 * length),\n",
    "        \"left_front\": (x1 * width, -x1 * length),\n",
    "        \"left_middle\": (x2 * width, 0),\n",
    "        \"left_back\": (x1 * width, x1 * length),\n",
    "    }\n",
    "    stand_holes = {\"front_stand\": (0, -0.75 * length), \"back_stand\": (0, 0.8 * length)}\n",
    "\n",
    "    # Create base geometry\n",
    "    workplane = cq.Workplane()\n",
    "    base = (workplane\n",
    "            .ellipseArc(width, length, 295, 245, startAtCurrent=False).close()\n",
    "            .pushPoints(list(base_holes.values())).circle(diam / 2 + tol)\n",
    "            .moveTo(*stand_holes[\"back_stand\"]).rect(width / 2 + 2 * tol, thickness + 2 * tol)\n",
    "            .moveTo(*stand_holes[\"front_stand\"]).rect(width / 2 + 2 * tol, thickness + 2 * tol)\n",
    "            .extrude(thickness)\n",
    "            )\n",
    "\n",
    "    # Tagging faces and holes\n",
    "    base.faces(\"<Z\").tag(\"bottom\")\n",
    "    base.faces(\">Z\").tag(\"top\")\n",
    "\n",
    "    for name, hole in base_holes.items():\n",
    "        base.faces(\"<Z\").wires(cq.NearestToPointSelector(hole)).tag(name)\n",
    "\n",
    "    for name, hole in stand_holes.items():\n",
    "        base.faces(\"<Z\").wires(cq.NearestToPointSelector(hole)).tag(name)\n",
    "\n",
    "    return base\n",
    "\n",
    "# Define names of base holes for reference\n",
    "base_holes_names = {\"right_back\", \"right_middle\", \"right_front\", \"left_back\", \"left_middle\", \"left_front\"}\n"
   ]
  },
  {
   "cell_type": "code",
   "execution_count": null,
   "metadata": {},
   "outputs": [],
   "source": [
    "def create_stand():\n",
    "    # Create stand geometry components\n",
    "    stand = cq.Workplane().box(height, width / 2 + 10, thickness)\n",
    "    inset = cq.Workplane().box(thickness, width / 2, thickness)\n",
    "    backing = cq.Workplane(\"ZX\").polyline([(10, 0), (0, 0), (0, 10)]).close().extrude(thickness)\n",
    "\n",
    "    # Assemble stand components\n",
    "    stand = (stand\n",
    "             .union(inset.translate(((height + thickness) / 2, 0, 0)))\n",
    "             .union(inset.translate((-(height + thickness) / 2, 0, 0)))\n",
    "             .union(backing.translate((-height / 2, -thickness / 2, thickness / 2)))\n",
    "             .union(backing.rotate((0, 0, 0), (0, 1, 0), -90).translate((height / 2, -thickness / 2, thickness / 2)))\n",
    "             )\n",
    "    return stand\n",
    "\n",
    "# Define names of stand components for reference\n",
    "stand_names = (\"front_stand\", \"back_stand\")\n"
   ]
  },
  {
   "cell_type": "code",
   "execution_count": null,
   "metadata": {},
   "outputs": [],
   "source": [
    "def create_upper_leg():\n",
    "    # Define upper leg dimensions\n",
    "    l1, l2 = 50, 80\n",
    "    pts = [(0, 0), (0, height / 2), (l1, height / 2 - 5), (l2, 0)]\n",
    "    upper_leg_hole = (l2 - 10, 0)\n",
    "\n",
    "    # Create upper leg geometry\n",
    "    upper_leg = (cq.Workplane()\n",
    "                 .polyline(pts).mirrorX()\n",
    "                 .pushPoints([upper_leg_hole]).circle(diam / 2 + tol).extrude(thickness)\n",
    "                 .edges(\"|Z and (not <X)\").fillet(4)\n",
    "                 )\n",
    "\n",
    "    # Create axle for the upper leg\n",
    "    axle = (cq.Workplane(\"XZ\", origin=(0, height / 2 + thickness + tol, thickness / 2))\n",
    "            .circle(diam / 2).extrude(2 * (height / 2 + thickness + tol))\n",
    "            )\n",
    "\n",
    "    # Combine upper leg and axle\n",
    "    upper_leg = upper_leg.union(axle)\n",
    "\n",
    "    # Tag mating points\n",
    "    upper_leg.faces(\">Z\").edges(cq.NearestToPointSelector(upper_leg_hole)).tag(\"top\")\n",
    "    upper_leg.faces(\"<Z\").edges(cq.NearestToPointSelector(upper_leg_hole)).tag(\"bottom\")\n",
    "\n",
    "    return upper_leg\n",
    "\n",
    "\n",
    "def create_lower_leg():\n",
    "    # Define lower leg dimensions\n",
    "    w, l1, l2 = 15, 20, 120\n",
    "    pts = [(0, 0), (l1, w), (l2, 0)]\n",
    "    lower_leg_hole = (l1 - 10, 0)\n",
    "\n",
    "    # Create lower leg geometry\n",
    "    lower_leg = (cq.Workplane()\n",
    "                 .polyline(pts).mirrorX()\n",
    "                 .pushPoints([lower_leg_hole]).circle(diam / 2 + tol)\n",
    "                 .extrude(thickness)\n",
    "                 .edges(\"|Z\").fillet(5)\n",
    "                 )\n",
    "\n",
    "    # Tag mating points\n",
    "    lower_leg.faces(\">Z\").edges(cq.NearestToPointSelector(lower_leg_hole)).tag(\"top\")\n",
    "    lower_leg.faces(\"<Z\").edges(cq.NearestToPointSelector(lower_leg_hole)).tag(\"bottom\")\n",
    "\n",
    "    return lower_leg\n",
    "\n",
    "\n",
    "# Define leg angles and names\n",
    "leg_angles = {\n",
    "    \"right_back\": -105, \"right_middle\": -90, \"right_front\": -75,\n",
    "    \"left_back\": 105, \"left_middle\": 90, \"left_front\": 75,\n",
    "}\n",
    "\n",
    "leg_names = list(leg_angles.keys())\n"
   ]
  },
  {
   "cell_type": "code",
   "execution_count": null,
   "metadata": {},
   "outputs": [],
   "source": [
    "# Create base, stand, upper leg, and lower leg components\n",
    "base = create_base()\n",
    "stand = create_stand()\n",
    "upper_leg = create_upper_leg()\n",
    "lower_leg = create_lower_leg()\n",
    "\n",
    "# Display the components in the viewer\n",
    "cv = show(\n",
    "    base,\n",
    "    stand.translate((100, -60, thickness / 2)),\n",
    "    upper_leg.translate((80, 0, 0)),\n",
    "    lower_leg.translate((75, 60, 0)),\n",
    ")\n"
   ]
  },
  {
   "cell_type": "markdown",
   "metadata": {},
   "source": [
    "## Define Assembly"
   ]
  },
  {
   "cell_type": "code",
   "execution_count": null,
   "metadata": {},
   "outputs": [],
   "source": [
    "def create_hexapod():\n",
    "    # Define shortcuts for readability\n",
    "    L = lambda *args: cq.Location(cq.Vector(*args))\n",
    "    C = lambda name: web_color(name)\n",
    "\n",
    "    # Create leg assembly\n",
    "    leg = (\n",
    "        MAssembly(upper_leg, name=\"upper\", color=C(\"orange\"))\n",
    "        .add(lower_leg, name=\"lower\", color=C(\"orange\"), loc=L(80, 0, 0))\n",
    "    )\n",
    "\n",
    "    # Create hexapod assembly\n",
    "    hexapod = (\n",
    "        MAssembly(base, name=\"bottom\", color=C(\"silver\"))\n",
    "        .add(base, name=\"top\", color=C(\"gainsboro\"), loc=L(0, -2 * length, 0))\n",
    "        .add(stand, name=\"front_stand\", color=C(\"SkyBlue\"), loc=L(120, -255, 0))\n",
    "        .add(stand, name=\"back_stand\", color=C(\"SkyBlue\"), loc=L(180, -255, 0))\n",
    "    )\n",
    "\n",
    "    # Add legs to the hexapod assembly\n",
    "    for i, name in enumerate(leg_names):\n",
    "        hexapod.add(leg, name=name, loc=L(100, -55 * (i - 1.4), 0))\n",
    "\n",
    "    return hexapod\n"
   ]
  },
  {
   "cell_type": "markdown",
   "metadata": {},
   "source": [
    "## Define Mates "
   ]
  },
  {
   "cell_type": "code",
   "execution_count": null,
   "metadata": {},
   "outputs": [],
   "source": [
    "from collections import OrderedDict as odict\n",
    "\n",
    "# Create the hexapod assembly\n",
    "hexapod = create_hexapod()\n",
    "\n",
    "# Add mates to the hexapod assembly\n",
    "hexapod.mate(\"bottom?top\", name=\"bottom\", origin=True)\n",
    "hexapod.mate(\"top?bottom\", name=\"top\", origin=True, transforms=odict(rx=180, tz=-(height + 2 * tol)))\n",
    "\n",
    "# Add mates for stand assemblies\n",
    "for name in stand_names:\n",
    "    hexapod.mate(f\"bottom?{name}\", name=f\"{name}_bottom\", transforms=odict(rz=180 if \"f\" in name else 0))\n",
    "    hexapod.mate(f\"{name}@faces@<X\", name=name, origin=True, transforms=odict(rx=180))\n",
    "\n",
    "# Add mates for base holes\n",
    "for name in base_holes_names:\n",
    "    hexapod.mate(f\"bottom?{name}\", name=f\"{name}_hole\", transforms=odict(rz=leg_angles[name]))\n",
    "\n",
    "# Add mates for leg assemblies\n",
    "for name in leg_names:\n",
    "    lower, upper, angle = (\"top\", \"bottom\", -75) if \"left\" in name else (\"bottom\", \"top\", -75)\n",
    "    hexapod.mate(f\"{name}?{upper}\", name=f\"leg_{name}_hole\", transforms=odict(rz=angle))\n",
    "    hexapod.mate(f\"{name}@faces@<Y\", name=f\"leg_{name}_hinge\", origin=True, transforms=odict(rx=180))\n",
    "    hexapod.mate(f\"{name}/lower?{lower}\", name=f\"leg_{name}_lower_hole\", origin=True)\n",
    "\n",
    "# Show the hexapod assembly with mates rendered\n",
    "cv = show(hexapod, render_mates=True)\n"
   ]
  },
  {
   "cell_type": "markdown",
   "metadata": {},
   "source": [
    "## Relocate and assemble"
   ]
  },
  {
   "cell_type": "code",
   "execution_count": null,
   "metadata": {},
   "outputs": [],
   "source": [
    "# Relocate the hexapod assembly\n",
    "hexapod.relocate()\n",
    "\n",
    "# Show the relocated hexapod assembly\n",
    "cv = show(hexapod)\n"
   ]
  },
  {
   "cell_type": "code",
   "execution_count": null,
   "metadata": {},
   "outputs": [],
   "source": [
    "# Assemble the lower leg holes and hinges for each leg\n",
    "for leg in leg_names:\n",
    "    hexapod.assemble(f\"leg_{leg}_lower_hole\", f\"leg_{leg}_hole\")\n",
    "    hexapod.assemble(f\"leg_{leg}_hinge\", f\"{leg}_hole\")\n",
    "\n",
    "# Assemble the top and bottom parts of the hexapod\n",
    "hexapod.assemble(\"top\", \"bottom\")\n",
    "\n",
    "# Assemble the stands\n",
    "for stand_name in stand_names:\n",
    "    hexapod.assemble(f\"{stand_name}\", f\"{stand_name}_bottom\")\n",
    "\n",
    "# Show the hexapod assembly with specific rendering settings\n",
    "cv = show(hexapod, render_mates=False, grid=[True, False, False], axes=False, render_normals=False)\n"
   ]
  },
  {
   "cell_type": "code",
   "execution_count": null,
   "metadata": {},
   "outputs": [],
   "source": []
  }
 ],
 "metadata": {
  "kernelspec": {
   "display_name": "Python 3",
   "language": "python",
   "name": "python3"
  },
  "language_info": {
   "codemirror_mode": {
    "name": "ipython",
    "version": 3
   },
   "file_extension": ".py",
   "mimetype": "text/x-python",
   "name": "python",
   "nbconvert_exporter": "python",
   "pygments_lexer": "ipython3",
   "version": "3.10.13"
  }
 },
 "nbformat": 4,
 "nbformat_minor": 4
}
